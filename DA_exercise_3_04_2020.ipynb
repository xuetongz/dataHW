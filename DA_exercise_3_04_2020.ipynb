{
 "cells": [
  {
   "cell_type": "code",
   "execution_count": 2,
   "metadata": {},
   "outputs": [],
   "source": [
    "import pandas as pd\n",
    "import numpy as np\n",
    "import matplotlib.pyplot as plt\n",
    "import seaborn as sns"
   ]
  },
  {
   "cell_type": "code",
   "execution_count": 99,
   "metadata": {},
   "outputs": [],
   "source": [
    "df = pd.read_csv('/Users/xuetong/Downloads/reviews.csv')"
   ]
  },
  {
   "cell_type": "code",
   "execution_count": 100,
   "metadata": {},
   "outputs": [
    {
     "data": {
      "text/html": [
       "<div>\n",
       "<style scoped>\n",
       "    .dataframe tbody tr th:only-of-type {\n",
       "        vertical-align: middle;\n",
       "    }\n",
       "\n",
       "    .dataframe tbody tr th {\n",
       "        vertical-align: top;\n",
       "    }\n",
       "\n",
       "    .dataframe thead th {\n",
       "        text-align: right;\n",
       "    }\n",
       "</style>\n",
       "<table border=\"1\" class=\"dataframe\">\n",
       "  <thead>\n",
       "    <tr style=\"text-align: right;\">\n",
       "      <th></th>\n",
       "      <th>location_id</th>\n",
       "      <th>review_id</th>\n",
       "      <th>source</th>\n",
       "      <th>date</th>\n",
       "      <th>rating</th>\n",
       "    </tr>\n",
       "  </thead>\n",
       "  <tbody>\n",
       "    <tr>\n",
       "      <th>0</th>\n",
       "      <td>4962_221</td>\n",
       "      <td>test_1895327047</td>\n",
       "      <td>GOOGLE_PLACES</td>\n",
       "      <td>10/20/15</td>\n",
       "      <td>1.0</td>\n",
       "    </tr>\n",
       "    <tr>\n",
       "      <th>1</th>\n",
       "      <td>4962_221</td>\n",
       "      <td>test_18961550118</td>\n",
       "      <td>FACEBOOK</td>\n",
       "      <td>11/27/17</td>\n",
       "      <td>1.0</td>\n",
       "    </tr>\n",
       "    <tr>\n",
       "      <th>2</th>\n",
       "      <td>4962_221</td>\n",
       "      <td>test_2044312531</td>\n",
       "      <td>FACEBOOK</td>\n",
       "      <td>11/15/17</td>\n",
       "      <td>1.0</td>\n",
       "    </tr>\n",
       "    <tr>\n",
       "      <th>3</th>\n",
       "      <td>4962_221</td>\n",
       "      <td>test_21399832280</td>\n",
       "      <td>FACEBOOK</td>\n",
       "      <td>7/17/17</td>\n",
       "      <td>1.0</td>\n",
       "    </tr>\n",
       "    <tr>\n",
       "      <th>4</th>\n",
       "      <td>4962_221</td>\n",
       "      <td>test_21516225526</td>\n",
       "      <td>FACEBOOK</td>\n",
       "      <td>1/11/16</td>\n",
       "      <td>1.0</td>\n",
       "    </tr>\n",
       "  </tbody>\n",
       "</table>\n",
       "</div>"
      ],
      "text/plain": [
       "  location_id         review_id         source      date  rating\n",
       "0    4962_221   test_1895327047  GOOGLE_PLACES  10/20/15     1.0\n",
       "1    4962_221  test_18961550118       FACEBOOK  11/27/17     1.0\n",
       "2    4962_221   test_2044312531       FACEBOOK  11/15/17     1.0\n",
       "3    4962_221  test_21399832280       FACEBOOK   7/17/17     1.0\n",
       "4    4962_221  test_21516225526       FACEBOOK   1/11/16     1.0"
      ]
     },
     "execution_count": 100,
     "metadata": {},
     "output_type": "execute_result"
    }
   ],
   "source": [
    "df.head()"
   ]
  },
  {
   "cell_type": "code",
   "execution_count": 101,
   "metadata": {},
   "outputs": [
    {
     "data": {
      "text/plain": [
       "(179345, 5)"
      ]
     },
     "execution_count": 101,
     "metadata": {},
     "output_type": "execute_result"
    }
   ],
   "source": [
    "df.shape"
   ]
  },
  {
   "cell_type": "code",
   "execution_count": 102,
   "metadata": {},
   "outputs": [],
   "source": [
    "df['date'] = pd.to_datetime(df['date'])"
   ]
  },
  {
   "cell_type": "markdown",
   "metadata": {},
   "source": [
    "### Problem A\n",
    "Compare the two location(4962_201 and 4962_380). Which do you think is better? Why?"
   ]
  },
  {
   "cell_type": "code",
   "execution_count": 68,
   "metadata": {},
   "outputs": [],
   "source": [
    "loc_201 = df[df['location_id'] == '4962_201']\n",
    "loc_380 = df[df['location_id'] == '4962_380']"
   ]
  },
  {
   "cell_type": "code",
   "execution_count": 69,
   "metadata": {},
   "outputs": [
    {
     "data": {
      "text/plain": [
       "count    926.000000\n",
       "mean       4.750540\n",
       "std        0.850675\n",
       "min        1.000000\n",
       "25%        5.000000\n",
       "50%        5.000000\n",
       "75%        5.000000\n",
       "max        5.000000\n",
       "Name: rating, dtype: float64"
      ]
     },
     "execution_count": 69,
     "metadata": {},
     "output_type": "execute_result"
    }
   ],
   "source": [
    "loc_201['rating'].describe()"
   ]
  },
  {
   "cell_type": "code",
   "execution_count": 70,
   "metadata": {},
   "outputs": [
    {
     "data": {
      "text/plain": [
       "count    639.000000\n",
       "mean       4.669797\n",
       "std        1.008838\n",
       "min        1.000000\n",
       "25%        5.000000\n",
       "50%        5.000000\n",
       "75%        5.000000\n",
       "max        5.000000\n",
       "Name: rating, dtype: float64"
      ]
     },
     "execution_count": 70,
     "metadata": {},
     "output_type": "execute_result"
    }
   ],
   "source": [
    "loc_380['rating'].describe()"
   ]
  },
  {
   "cell_type": "code",
   "execution_count": 71,
   "metadata": {},
   "outputs": [],
   "source": [
    "grp_by_source_201 = loc_201.groupby(['source'])['rating'].agg(['mean','count'])"
   ]
  },
  {
   "cell_type": "code",
   "execution_count": 72,
   "metadata": {},
   "outputs": [
    {
     "data": {
      "text/html": [
       "<div>\n",
       "<style scoped>\n",
       "    .dataframe tbody tr th:only-of-type {\n",
       "        vertical-align: middle;\n",
       "    }\n",
       "\n",
       "    .dataframe tbody tr th {\n",
       "        vertical-align: top;\n",
       "    }\n",
       "\n",
       "    .dataframe thead th {\n",
       "        text-align: right;\n",
       "    }\n",
       "</style>\n",
       "<table border=\"1\" class=\"dataframe\">\n",
       "  <thead>\n",
       "    <tr style=\"text-align: right;\">\n",
       "      <th></th>\n",
       "      <th>mean</th>\n",
       "      <th>count</th>\n",
       "    </tr>\n",
       "    <tr>\n",
       "      <th>source</th>\n",
       "      <th></th>\n",
       "      <th></th>\n",
       "    </tr>\n",
       "  </thead>\n",
       "  <tbody>\n",
       "    <tr>\n",
       "      <th>CARS</th>\n",
       "      <td>4.875862</td>\n",
       "      <td>145</td>\n",
       "    </tr>\n",
       "    <tr>\n",
       "      <th>FACEBOOK</th>\n",
       "      <td>4.633333</td>\n",
       "      <td>150</td>\n",
       "    </tr>\n",
       "    <tr>\n",
       "      <th>GOOGLE_PLACES</th>\n",
       "      <td>4.749604</td>\n",
       "      <td>631</td>\n",
       "    </tr>\n",
       "  </tbody>\n",
       "</table>\n",
       "</div>"
      ],
      "text/plain": [
       "                   mean  count\n",
       "source                        \n",
       "CARS           4.875862    145\n",
       "FACEBOOK       4.633333    150\n",
       "GOOGLE_PLACES  4.749604    631"
      ]
     },
     "execution_count": 72,
     "metadata": {},
     "output_type": "execute_result"
    }
   ],
   "source": [
    "grp_by_source_201"
   ]
  },
  {
   "cell_type": "code",
   "execution_count": 73,
   "metadata": {},
   "outputs": [
    {
     "data": {
      "text/html": [
       "<div>\n",
       "<style scoped>\n",
       "    .dataframe tbody tr th:only-of-type {\n",
       "        vertical-align: middle;\n",
       "    }\n",
       "\n",
       "    .dataframe tbody tr th {\n",
       "        vertical-align: top;\n",
       "    }\n",
       "\n",
       "    .dataframe thead th {\n",
       "        text-align: right;\n",
       "    }\n",
       "</style>\n",
       "<table border=\"1\" class=\"dataframe\">\n",
       "  <thead>\n",
       "    <tr style=\"text-align: right;\">\n",
       "      <th></th>\n",
       "      <th>mean</th>\n",
       "      <th>count</th>\n",
       "    </tr>\n",
       "    <tr>\n",
       "      <th>source</th>\n",
       "      <th></th>\n",
       "      <th></th>\n",
       "    </tr>\n",
       "  </thead>\n",
       "  <tbody>\n",
       "    <tr>\n",
       "      <th>CARS</th>\n",
       "      <td>4.909091</td>\n",
       "      <td>11</td>\n",
       "    </tr>\n",
       "    <tr>\n",
       "      <th>FACEBOOK</th>\n",
       "      <td>4.547619</td>\n",
       "      <td>252</td>\n",
       "    </tr>\n",
       "    <tr>\n",
       "      <th>GOOGLE_PLACES</th>\n",
       "      <td>4.744681</td>\n",
       "      <td>376</td>\n",
       "    </tr>\n",
       "  </tbody>\n",
       "</table>\n",
       "</div>"
      ],
      "text/plain": [
       "                   mean  count\n",
       "source                        \n",
       "CARS           4.909091     11\n",
       "FACEBOOK       4.547619    252\n",
       "GOOGLE_PLACES  4.744681    376"
      ]
     },
     "execution_count": 73,
     "metadata": {},
     "output_type": "execute_result"
    }
   ],
   "source": [
    "grp_by_source_380 = loc_380.groupby(['source'])['rating'].agg(['mean','count'])\n",
    "grp_by_source_380"
   ]
  },
  {
   "cell_type": "code",
   "execution_count": 74,
   "metadata": {},
   "outputs": [],
   "source": [
    "# grp_by_date_380 = loc_380.groupby(['date'])['rating'].mean()\n",
    "# grp_by_date_380.plot()"
   ]
  },
  {
   "cell_type": "code",
   "execution_count": 75,
   "metadata": {},
   "outputs": [],
   "source": [
    "# grp_by_date_201 = loc_201.groupby(['date'])['rating'].mean()\n",
    "# grp_by_date_201.plot()"
   ]
  },
  {
   "cell_type": "markdown",
   "metadata": {},
   "source": [
    "location 4962_201 is a better since mean of rating is higher than that of 4962_380 also it has larger sample size and smaller standard deviation, and the rating from each source is higher."
   ]
  },
  {
   "cell_type": "markdown",
   "metadata": {},
   "source": [
    "### Problem B\n",
    "Compare the two location(4962_381 and 4962_915). Which do you think is better? Why?"
   ]
  },
  {
   "cell_type": "code",
   "execution_count": 76,
   "metadata": {},
   "outputs": [],
   "source": [
    "loc_381 = df[df['location_id'] == '4962_381']\n",
    "loc_915 = df[df['location_id'] == '4962_915']"
   ]
  },
  {
   "cell_type": "code",
   "execution_count": 77,
   "metadata": {},
   "outputs": [
    {
     "data": {
      "text/plain": [
       "count    559.000000\n",
       "mean       4.554562\n",
       "std        1.131249\n",
       "min        1.000000\n",
       "25%        5.000000\n",
       "50%        5.000000\n",
       "75%        5.000000\n",
       "max        5.000000\n",
       "Name: rating, dtype: float64"
      ]
     },
     "execution_count": 77,
     "metadata": {},
     "output_type": "execute_result"
    }
   ],
   "source": [
    "loc_381['rating'].describe()"
   ]
  },
  {
   "cell_type": "code",
   "execution_count": 78,
   "metadata": {},
   "outputs": [
    {
     "data": {
      "text/plain": [
       "count    521.000000\n",
       "mean       4.629559\n",
       "std        1.022351\n",
       "min        1.000000\n",
       "25%        5.000000\n",
       "50%        5.000000\n",
       "75%        5.000000\n",
       "max        5.000000\n",
       "Name: rating, dtype: float64"
      ]
     },
     "execution_count": 78,
     "metadata": {},
     "output_type": "execute_result"
    }
   ],
   "source": [
    "loc_915['rating'].describe()"
   ]
  },
  {
   "cell_type": "code",
   "execution_count": 79,
   "metadata": {},
   "outputs": [
    {
     "data": {
      "text/html": [
       "<div>\n",
       "<style scoped>\n",
       "    .dataframe tbody tr th:only-of-type {\n",
       "        vertical-align: middle;\n",
       "    }\n",
       "\n",
       "    .dataframe tbody tr th {\n",
       "        vertical-align: top;\n",
       "    }\n",
       "\n",
       "    .dataframe thead th {\n",
       "        text-align: right;\n",
       "    }\n",
       "</style>\n",
       "<table border=\"1\" class=\"dataframe\">\n",
       "  <thead>\n",
       "    <tr style=\"text-align: right;\">\n",
       "      <th></th>\n",
       "      <th>mean</th>\n",
       "      <th>count</th>\n",
       "    </tr>\n",
       "    <tr>\n",
       "      <th>source</th>\n",
       "      <th></th>\n",
       "      <th></th>\n",
       "    </tr>\n",
       "  </thead>\n",
       "  <tbody>\n",
       "    <tr>\n",
       "      <th>CARS</th>\n",
       "      <td>4.740741</td>\n",
       "      <td>27</td>\n",
       "    </tr>\n",
       "    <tr>\n",
       "      <th>FACEBOOK</th>\n",
       "      <td>4.518519</td>\n",
       "      <td>486</td>\n",
       "    </tr>\n",
       "    <tr>\n",
       "      <th>GOOGLE_PLACES</th>\n",
       "      <td>4.826087</td>\n",
       "      <td>46</td>\n",
       "    </tr>\n",
       "  </tbody>\n",
       "</table>\n",
       "</div>"
      ],
      "text/plain": [
       "                   mean  count\n",
       "source                        \n",
       "CARS           4.740741     27\n",
       "FACEBOOK       4.518519    486\n",
       "GOOGLE_PLACES  4.826087     46"
      ]
     },
     "execution_count": 79,
     "metadata": {},
     "output_type": "execute_result"
    }
   ],
   "source": [
    "grp_by_source_381 = loc_381.groupby(['source'])['rating'].agg(['mean','count'])\n",
    "grp_by_source_381"
   ]
  },
  {
   "cell_type": "code",
   "execution_count": 80,
   "metadata": {},
   "outputs": [
    {
     "data": {
      "text/html": [
       "<div>\n",
       "<style scoped>\n",
       "    .dataframe tbody tr th:only-of-type {\n",
       "        vertical-align: middle;\n",
       "    }\n",
       "\n",
       "    .dataframe tbody tr th {\n",
       "        vertical-align: top;\n",
       "    }\n",
       "\n",
       "    .dataframe thead th {\n",
       "        text-align: right;\n",
       "    }\n",
       "</style>\n",
       "<table border=\"1\" class=\"dataframe\">\n",
       "  <thead>\n",
       "    <tr style=\"text-align: right;\">\n",
       "      <th></th>\n",
       "      <th>mean</th>\n",
       "      <th>count</th>\n",
       "    </tr>\n",
       "    <tr>\n",
       "      <th>source</th>\n",
       "      <th></th>\n",
       "      <th></th>\n",
       "    </tr>\n",
       "  </thead>\n",
       "  <tbody>\n",
       "    <tr>\n",
       "      <th>CARS</th>\n",
       "      <td>4.902516</td>\n",
       "      <td>318</td>\n",
       "    </tr>\n",
       "    <tr>\n",
       "      <th>FACEBOOK</th>\n",
       "      <td>4.295238</td>\n",
       "      <td>105</td>\n",
       "    </tr>\n",
       "    <tr>\n",
       "      <th>GOOGLE_PLACES</th>\n",
       "      <td>4.102041</td>\n",
       "      <td>98</td>\n",
       "    </tr>\n",
       "  </tbody>\n",
       "</table>\n",
       "</div>"
      ],
      "text/plain": [
       "                   mean  count\n",
       "source                        \n",
       "CARS           4.902516    318\n",
       "FACEBOOK       4.295238    105\n",
       "GOOGLE_PLACES  4.102041     98"
      ]
     },
     "execution_count": 80,
     "metadata": {},
     "output_type": "execute_result"
    }
   ],
   "source": [
    "grp_by_source_915 = loc_915.groupby(['source'])['rating'].agg(['mean','count'])\n",
    "grp_by_source_915"
   ]
  },
  {
   "cell_type": "code",
   "execution_count": 81,
   "metadata": {},
   "outputs": [
    {
     "data": {
      "text/plain": [
       "346"
      ]
     },
     "execution_count": 81,
     "metadata": {},
     "output_type": "execute_result"
    }
   ],
   "source": [
    "loc_915['date'].nunique()"
   ]
  },
  {
   "cell_type": "markdown",
   "metadata": {},
   "source": [
    "I think location 4962_381 is better.Although the its overall avarage of rating is a little bit lower than that of location 4962_915, but if we look of the segmation of each course location 4962_915 has really low rating in platform facebook and google_places."
   ]
  },
  {
   "cell_type": "markdown",
   "metadata": {},
   "source": [
    "### Problem C\n",
    "create a formula to rank all of the location."
   ]
  },
  {
   "cell_type": "markdown",
   "metadata": {},
   "source": [
    "The formula I come up with is Rank_score = AVG(rating) + min(rating_by_source)+ max(count_weight+0.5,1),which considered avarage rating of each location, and minimum of average rating from each sources, as well as how many rate we received from each location, for location has extreme small sample size, there count weight would be smaller. "
   ]
  },
  {
   "cell_type": "code",
   "execution_count": 131,
   "metadata": {},
   "outputs": [],
   "source": [
    "groups_loc = df.groupby(['location_id'],as_index = False)['rating'].agg(['mean','count'])"
   ]
  },
  {
   "cell_type": "code",
   "execution_count": 132,
   "metadata": {},
   "outputs": [],
   "source": [
    "groups_loc_source = df.groupby(['location_id','source'])['rating'].mean().unstack()\n",
    "groups_loc_source\n",
    "groups_source_min = groups_loc_source.apply(lambda x: min(x.CARS,x.FACEBOOK,x.GOOGLE_PLACES),axis = 1).to_frame(name = 'min_rate')"
   ]
  },
  {
   "cell_type": "code",
   "execution_count": 133,
   "metadata": {},
   "outputs": [
    {
     "data": {
      "text/html": [
       "<div>\n",
       "<style scoped>\n",
       "    .dataframe tbody tr th:only-of-type {\n",
       "        vertical-align: middle;\n",
       "    }\n",
       "\n",
       "    .dataframe tbody tr th {\n",
       "        vertical-align: top;\n",
       "    }\n",
       "\n",
       "    .dataframe thead th {\n",
       "        text-align: right;\n",
       "    }\n",
       "</style>\n",
       "<table border=\"1\" class=\"dataframe\">\n",
       "  <thead>\n",
       "    <tr style=\"text-align: right;\">\n",
       "      <th></th>\n",
       "      <th>min_rate</th>\n",
       "    </tr>\n",
       "    <tr>\n",
       "      <th>location_id</th>\n",
       "      <th></th>\n",
       "    </tr>\n",
       "  </thead>\n",
       "  <tbody>\n",
       "    <tr>\n",
       "      <th>4962_10</th>\n",
       "      <td>4.357143</td>\n",
       "    </tr>\n",
       "    <tr>\n",
       "      <th>4962_1000</th>\n",
       "      <td>4.080000</td>\n",
       "    </tr>\n",
       "    <tr>\n",
       "      <th>4962_1005</th>\n",
       "      <td>3.596154</td>\n",
       "    </tr>\n",
       "    <tr>\n",
       "      <th>4962_101</th>\n",
       "      <td>3.672727</td>\n",
       "    </tr>\n",
       "    <tr>\n",
       "      <th>4962_103</th>\n",
       "      <td>3.949333</td>\n",
       "    </tr>\n",
       "  </tbody>\n",
       "</table>\n",
       "</div>"
      ],
      "text/plain": [
       "             min_rate\n",
       "location_id          \n",
       "4962_10      4.357143\n",
       "4962_1000    4.080000\n",
       "4962_1005    3.596154\n",
       "4962_101     3.672727\n",
       "4962_103     3.949333"
      ]
     },
     "execution_count": 133,
     "metadata": {},
     "output_type": "execute_result"
    }
   ],
   "source": [
    "groups_source_min.head()"
   ]
  },
  {
   "cell_type": "code",
   "execution_count": 110,
   "metadata": {},
   "outputs": [],
   "source": [
    "#groups_source_min['location_id'] = groups_source_min.index"
   ]
  },
  {
   "cell_type": "code",
   "execution_count": 134,
   "metadata": {},
   "outputs": [
    {
     "data": {
      "text/html": [
       "<div>\n",
       "<style scoped>\n",
       "    .dataframe tbody tr th:only-of-type {\n",
       "        vertical-align: middle;\n",
       "    }\n",
       "\n",
       "    .dataframe tbody tr th {\n",
       "        vertical-align: top;\n",
       "    }\n",
       "\n",
       "    .dataframe thead th {\n",
       "        text-align: right;\n",
       "    }\n",
       "</style>\n",
       "<table border=\"1\" class=\"dataframe\">\n",
       "  <thead>\n",
       "    <tr style=\"text-align: right;\">\n",
       "      <th></th>\n",
       "      <th>location_id</th>\n",
       "      <th>min_rate</th>\n",
       "    </tr>\n",
       "  </thead>\n",
       "  <tbody>\n",
       "    <tr>\n",
       "      <th>0</th>\n",
       "      <td>4962_10</td>\n",
       "      <td>4.357143</td>\n",
       "    </tr>\n",
       "    <tr>\n",
       "      <th>1</th>\n",
       "      <td>4962_1000</td>\n",
       "      <td>4.080000</td>\n",
       "    </tr>\n",
       "    <tr>\n",
       "      <th>2</th>\n",
       "      <td>4962_1005</td>\n",
       "      <td>3.596154</td>\n",
       "    </tr>\n",
       "    <tr>\n",
       "      <th>3</th>\n",
       "      <td>4962_101</td>\n",
       "      <td>3.672727</td>\n",
       "    </tr>\n",
       "    <tr>\n",
       "      <th>4</th>\n",
       "      <td>4962_103</td>\n",
       "      <td>3.949333</td>\n",
       "    </tr>\n",
       "  </tbody>\n",
       "</table>\n",
       "</div>"
      ],
      "text/plain": [
       "  location_id  min_rate\n",
       "0     4962_10  4.357143\n",
       "1   4962_1000  4.080000\n",
       "2   4962_1005  3.596154\n",
       "3    4962_101  3.672727\n",
       "4    4962_103  3.949333"
      ]
     },
     "execution_count": 134,
     "metadata": {},
     "output_type": "execute_result"
    }
   ],
   "source": [
    "groups_source_min.reset_index(inplace= True)\n",
    "groups_source_min.head()"
   ]
  },
  {
   "cell_type": "code",
   "execution_count": 135,
   "metadata": {},
   "outputs": [
    {
     "data": {
      "text/html": [
       "<div>\n",
       "<style scoped>\n",
       "    .dataframe tbody tr th:only-of-type {\n",
       "        vertical-align: middle;\n",
       "    }\n",
       "\n",
       "    .dataframe tbody tr th {\n",
       "        vertical-align: top;\n",
       "    }\n",
       "\n",
       "    .dataframe thead th {\n",
       "        text-align: right;\n",
       "    }\n",
       "</style>\n",
       "<table border=\"1\" class=\"dataframe\">\n",
       "  <thead>\n",
       "    <tr style=\"text-align: right;\">\n",
       "      <th></th>\n",
       "      <th>mean</th>\n",
       "      <th>count</th>\n",
       "    </tr>\n",
       "    <tr>\n",
       "      <th>location_id</th>\n",
       "      <th></th>\n",
       "      <th></th>\n",
       "    </tr>\n",
       "  </thead>\n",
       "  <tbody>\n",
       "    <tr>\n",
       "      <th>4962_10</th>\n",
       "      <td>4.410653</td>\n",
       "      <td>582</td>\n",
       "    </tr>\n",
       "    <tr>\n",
       "      <th>4962_1000</th>\n",
       "      <td>4.462575</td>\n",
       "      <td>668</td>\n",
       "    </tr>\n",
       "    <tr>\n",
       "      <th>4962_1005</th>\n",
       "      <td>4.369085</td>\n",
       "      <td>634</td>\n",
       "    </tr>\n",
       "    <tr>\n",
       "      <th>4962_101</th>\n",
       "      <td>4.104953</td>\n",
       "      <td>848</td>\n",
       "    </tr>\n",
       "    <tr>\n",
       "      <th>4962_103</th>\n",
       "      <td>4.279449</td>\n",
       "      <td>798</td>\n",
       "    </tr>\n",
       "  </tbody>\n",
       "</table>\n",
       "</div>"
      ],
      "text/plain": [
       "                 mean  count\n",
       "location_id                 \n",
       "4962_10      4.410653    582\n",
       "4962_1000    4.462575    668\n",
       "4962_1005    4.369085    634\n",
       "4962_101     4.104953    848\n",
       "4962_103     4.279449    798"
      ]
     },
     "execution_count": 135,
     "metadata": {},
     "output_type": "execute_result"
    }
   ],
   "source": [
    "groups_loc.head()"
   ]
  },
  {
   "cell_type": "code",
   "execution_count": 136,
   "metadata": {},
   "outputs": [],
   "source": [
    "rank = groups_loc.merge(groups_source_min,on = 'location_id')"
   ]
  },
  {
   "cell_type": "code",
   "execution_count": 137,
   "metadata": {},
   "outputs": [
    {
     "data": {
      "text/html": [
       "<div>\n",
       "<style scoped>\n",
       "    .dataframe tbody tr th:only-of-type {\n",
       "        vertical-align: middle;\n",
       "    }\n",
       "\n",
       "    .dataframe tbody tr th {\n",
       "        vertical-align: top;\n",
       "    }\n",
       "\n",
       "    .dataframe thead th {\n",
       "        text-align: right;\n",
       "    }\n",
       "</style>\n",
       "<table border=\"1\" class=\"dataframe\">\n",
       "  <thead>\n",
       "    <tr style=\"text-align: right;\">\n",
       "      <th></th>\n",
       "      <th>location_id</th>\n",
       "      <th>mean</th>\n",
       "      <th>count</th>\n",
       "      <th>min_rate</th>\n",
       "    </tr>\n",
       "  </thead>\n",
       "  <tbody>\n",
       "    <tr>\n",
       "      <th>0</th>\n",
       "      <td>4962_10</td>\n",
       "      <td>4.410653</td>\n",
       "      <td>582</td>\n",
       "      <td>4.357143</td>\n",
       "    </tr>\n",
       "    <tr>\n",
       "      <th>1</th>\n",
       "      <td>4962_1000</td>\n",
       "      <td>4.462575</td>\n",
       "      <td>668</td>\n",
       "      <td>4.080000</td>\n",
       "    </tr>\n",
       "    <tr>\n",
       "      <th>2</th>\n",
       "      <td>4962_1005</td>\n",
       "      <td>4.369085</td>\n",
       "      <td>634</td>\n",
       "      <td>3.596154</td>\n",
       "    </tr>\n",
       "    <tr>\n",
       "      <th>3</th>\n",
       "      <td>4962_101</td>\n",
       "      <td>4.104953</td>\n",
       "      <td>848</td>\n",
       "      <td>3.672727</td>\n",
       "    </tr>\n",
       "    <tr>\n",
       "      <th>4</th>\n",
       "      <td>4962_103</td>\n",
       "      <td>4.279449</td>\n",
       "      <td>798</td>\n",
       "      <td>3.949333</td>\n",
       "    </tr>\n",
       "  </tbody>\n",
       "</table>\n",
       "</div>"
      ],
      "text/plain": [
       "  location_id      mean  count  min_rate\n",
       "0     4962_10  4.410653    582  4.357143\n",
       "1   4962_1000  4.462575    668  4.080000\n",
       "2   4962_1005  4.369085    634  3.596154\n",
       "3    4962_101  4.104953    848  3.672727\n",
       "4    4962_103  4.279449    798  3.949333"
      ]
     },
     "execution_count": 137,
     "metadata": {},
     "output_type": "execute_result"
    }
   ],
   "source": [
    "rank.head()"
   ]
  },
  {
   "cell_type": "code",
   "execution_count": 140,
   "metadata": {},
   "outputs": [
    {
     "data": {
      "text/plain": [
       "12"
      ]
     },
     "execution_count": 140,
     "metadata": {},
     "output_type": "execute_result"
    }
   ],
   "source": [
    "np.min(rank['count'])"
   ]
  },
  {
   "cell_type": "code",
   "execution_count": 141,
   "metadata": {},
   "outputs": [
    {
     "data": {
      "text/plain": [
       "1630"
      ]
     },
     "execution_count": 141,
     "metadata": {},
     "output_type": "execute_result"
    }
   ],
   "source": [
    "np.max(rank['count'])"
   ]
  },
  {
   "cell_type": "code",
   "execution_count": 142,
   "metadata": {},
   "outputs": [],
   "source": [
    "rank['count_weight'] = rank['count'].apply(lambda x : x/(np.max(rank['count'])))"
   ]
  },
  {
   "cell_type": "code",
   "execution_count": 151,
   "metadata": {},
   "outputs": [],
   "source": [
    "rank['rank_rate'] = rank.apply(lambda x: (x['mean'] + x['min_rate'])+max((x['count_weight']+0.5,1)), axis = 1)"
   ]
  },
  {
   "cell_type": "code",
   "execution_count": 152,
   "metadata": {},
   "outputs": [],
   "source": [
    "rank['rank_result'] = rank['rank_rate'].rank(ascending = False)"
   ]
  },
  {
   "cell_type": "code",
   "execution_count": 153,
   "metadata": {},
   "outputs": [
    {
     "data": {
      "text/html": [
       "<div>\n",
       "<style scoped>\n",
       "    .dataframe tbody tr th:only-of-type {\n",
       "        vertical-align: middle;\n",
       "    }\n",
       "\n",
       "    .dataframe tbody tr th {\n",
       "        vertical-align: top;\n",
       "    }\n",
       "\n",
       "    .dataframe thead th {\n",
       "        text-align: right;\n",
       "    }\n",
       "</style>\n",
       "<table border=\"1\" class=\"dataframe\">\n",
       "  <thead>\n",
       "    <tr style=\"text-align: right;\">\n",
       "      <th></th>\n",
       "      <th>location_id</th>\n",
       "      <th>mean</th>\n",
       "      <th>count</th>\n",
       "      <th>min_rate</th>\n",
       "      <th>count_weight</th>\n",
       "      <th>rank_rate</th>\n",
       "      <th>rank_result</th>\n",
       "    </tr>\n",
       "  </thead>\n",
       "  <tbody>\n",
       "    <tr>\n",
       "      <th>89</th>\n",
       "      <td>4962_435</td>\n",
       "      <td>4.896817</td>\n",
       "      <td>911</td>\n",
       "      <td>4.875300</td>\n",
       "      <td>0.558896</td>\n",
       "      <td>10.831012</td>\n",
       "      <td>1.0</td>\n",
       "    </tr>\n",
       "    <tr>\n",
       "      <th>15</th>\n",
       "      <td>4962_131</td>\n",
       "      <td>4.928571</td>\n",
       "      <td>784</td>\n",
       "      <td>4.845238</td>\n",
       "      <td>0.480982</td>\n",
       "      <td>10.773810</td>\n",
       "      <td>2.0</td>\n",
       "    </tr>\n",
       "    <tr>\n",
       "      <th>211</th>\n",
       "      <td>4962_875</td>\n",
       "      <td>4.820546</td>\n",
       "      <td>769</td>\n",
       "      <td>4.808989</td>\n",
       "      <td>0.471779</td>\n",
       "      <td>10.629535</td>\n",
       "      <td>3.0</td>\n",
       "    </tr>\n",
       "    <tr>\n",
       "      <th>65</th>\n",
       "      <td>4962_343</td>\n",
       "      <td>4.860262</td>\n",
       "      <td>687</td>\n",
       "      <td>4.741176</td>\n",
       "      <td>0.421472</td>\n",
       "      <td>10.601438</td>\n",
       "      <td>4.0</td>\n",
       "    </tr>\n",
       "    <tr>\n",
       "      <th>155</th>\n",
       "      <td>4962_69</td>\n",
       "      <td>4.769674</td>\n",
       "      <td>521</td>\n",
       "      <td>4.762712</td>\n",
       "      <td>0.319632</td>\n",
       "      <td>10.532386</td>\n",
       "      <td>5.0</td>\n",
       "    </tr>\n",
       "    <tr>\n",
       "      <th>50</th>\n",
       "      <td>4962_288</td>\n",
       "      <td>4.787415</td>\n",
       "      <td>588</td>\n",
       "      <td>4.730769</td>\n",
       "      <td>0.360736</td>\n",
       "      <td>10.518184</td>\n",
       "      <td>6.0</td>\n",
       "    </tr>\n",
       "    <tr>\n",
       "      <th>221</th>\n",
       "      <td>4962_908</td>\n",
       "      <td>4.757447</td>\n",
       "      <td>705</td>\n",
       "      <td>4.702703</td>\n",
       "      <td>0.432515</td>\n",
       "      <td>10.460150</td>\n",
       "      <td>7.0</td>\n",
       "    </tr>\n",
       "    <tr>\n",
       "      <th>46</th>\n",
       "      <td>4962_275</td>\n",
       "      <td>4.775304</td>\n",
       "      <td>988</td>\n",
       "      <td>4.575904</td>\n",
       "      <td>0.606135</td>\n",
       "      <td>10.457342</td>\n",
       "      <td>8.0</td>\n",
       "    </tr>\n",
       "    <tr>\n",
       "      <th>29</th>\n",
       "      <td>4962_201</td>\n",
       "      <td>4.750540</td>\n",
       "      <td>926</td>\n",
       "      <td>4.633333</td>\n",
       "      <td>0.568098</td>\n",
       "      <td>10.451971</td>\n",
       "      <td>9.0</td>\n",
       "    </tr>\n",
       "    <tr>\n",
       "      <th>188</th>\n",
       "      <td>4962_768</td>\n",
       "      <td>4.547239</td>\n",
       "      <td>1630</td>\n",
       "      <td>4.380510</td>\n",
       "      <td>1.000000</td>\n",
       "      <td>10.427750</td>\n",
       "      <td>10.0</td>\n",
       "    </tr>\n",
       "    <tr>\n",
       "      <th>197</th>\n",
       "      <td>4962_798</td>\n",
       "      <td>4.760331</td>\n",
       "      <td>605</td>\n",
       "      <td>4.664179</td>\n",
       "      <td>0.371166</td>\n",
       "      <td>10.424510</td>\n",
       "      <td>11.0</td>\n",
       "    </tr>\n",
       "    <tr>\n",
       "      <th>210</th>\n",
       "      <td>4962_862</td>\n",
       "      <td>4.715472</td>\n",
       "      <td>963</td>\n",
       "      <td>4.606061</td>\n",
       "      <td>0.590798</td>\n",
       "      <td>10.412331</td>\n",
       "      <td>12.0</td>\n",
       "    </tr>\n",
       "    <tr>\n",
       "      <th>116</th>\n",
       "      <td>4962_518</td>\n",
       "      <td>4.760835</td>\n",
       "      <td>623</td>\n",
       "      <td>4.644068</td>\n",
       "      <td>0.382209</td>\n",
       "      <td>10.404902</td>\n",
       "      <td>13.0</td>\n",
       "    </tr>\n",
       "    <tr>\n",
       "      <th>160</th>\n",
       "      <td>4962_708</td>\n",
       "      <td>4.708159</td>\n",
       "      <td>956</td>\n",
       "      <td>4.607339</td>\n",
       "      <td>0.586503</td>\n",
       "      <td>10.402002</td>\n",
       "      <td>14.0</td>\n",
       "    </tr>\n",
       "    <tr>\n",
       "      <th>18</th>\n",
       "      <td>4962_135</td>\n",
       "      <td>4.709046</td>\n",
       "      <td>818</td>\n",
       "      <td>4.665000</td>\n",
       "      <td>0.501840</td>\n",
       "      <td>10.375887</td>\n",
       "      <td>15.0</td>\n",
       "    </tr>\n",
       "    <tr>\n",
       "      <th>136</th>\n",
       "      <td>4962_597</td>\n",
       "      <td>4.856959</td>\n",
       "      <td>776</td>\n",
       "      <td>4.500000</td>\n",
       "      <td>0.476074</td>\n",
       "      <td>10.356959</td>\n",
       "      <td>16.0</td>\n",
       "    </tr>\n",
       "    <tr>\n",
       "      <th>226</th>\n",
       "      <td>4962_919</td>\n",
       "      <td>4.808696</td>\n",
       "      <td>920</td>\n",
       "      <td>4.465409</td>\n",
       "      <td>0.564417</td>\n",
       "      <td>10.338522</td>\n",
       "      <td>17.0</td>\n",
       "    </tr>\n",
       "    <tr>\n",
       "      <th>225</th>\n",
       "      <td>4962_917</td>\n",
       "      <td>4.818930</td>\n",
       "      <td>729</td>\n",
       "      <td>4.507246</td>\n",
       "      <td>0.447239</td>\n",
       "      <td>10.326176</td>\n",
       "      <td>18.0</td>\n",
       "    </tr>\n",
       "    <tr>\n",
       "      <th>68</th>\n",
       "      <td>4962_363</td>\n",
       "      <td>4.650235</td>\n",
       "      <td>852</td>\n",
       "      <td>4.649718</td>\n",
       "      <td>0.522699</td>\n",
       "      <td>10.322652</td>\n",
       "      <td>19.0</td>\n",
       "    </tr>\n",
       "    <tr>\n",
       "      <th>104</th>\n",
       "      <td>4962_469</td>\n",
       "      <td>4.719939</td>\n",
       "      <td>657</td>\n",
       "      <td>4.601874</td>\n",
       "      <td>0.403067</td>\n",
       "      <td>10.321813</td>\n",
       "      <td>20.0</td>\n",
       "    </tr>\n",
       "  </tbody>\n",
       "</table>\n",
       "</div>"
      ],
      "text/plain": [
       "    location_id      mean  count  min_rate  count_weight  rank_rate  \\\n",
       "89     4962_435  4.896817    911  4.875300      0.558896  10.831012   \n",
       "15     4962_131  4.928571    784  4.845238      0.480982  10.773810   \n",
       "211    4962_875  4.820546    769  4.808989      0.471779  10.629535   \n",
       "65     4962_343  4.860262    687  4.741176      0.421472  10.601438   \n",
       "155     4962_69  4.769674    521  4.762712      0.319632  10.532386   \n",
       "50     4962_288  4.787415    588  4.730769      0.360736  10.518184   \n",
       "221    4962_908  4.757447    705  4.702703      0.432515  10.460150   \n",
       "46     4962_275  4.775304    988  4.575904      0.606135  10.457342   \n",
       "29     4962_201  4.750540    926  4.633333      0.568098  10.451971   \n",
       "188    4962_768  4.547239   1630  4.380510      1.000000  10.427750   \n",
       "197    4962_798  4.760331    605  4.664179      0.371166  10.424510   \n",
       "210    4962_862  4.715472    963  4.606061      0.590798  10.412331   \n",
       "116    4962_518  4.760835    623  4.644068      0.382209  10.404902   \n",
       "160    4962_708  4.708159    956  4.607339      0.586503  10.402002   \n",
       "18     4962_135  4.709046    818  4.665000      0.501840  10.375887   \n",
       "136    4962_597  4.856959    776  4.500000      0.476074  10.356959   \n",
       "226    4962_919  4.808696    920  4.465409      0.564417  10.338522   \n",
       "225    4962_917  4.818930    729  4.507246      0.447239  10.326176   \n",
       "68     4962_363  4.650235    852  4.649718      0.522699  10.322652   \n",
       "104    4962_469  4.719939    657  4.601874      0.403067  10.321813   \n",
       "\n",
       "     rank_result  \n",
       "89           1.0  \n",
       "15           2.0  \n",
       "211          3.0  \n",
       "65           4.0  \n",
       "155          5.0  \n",
       "50           6.0  \n",
       "221          7.0  \n",
       "46           8.0  \n",
       "29           9.0  \n",
       "188         10.0  \n",
       "197         11.0  \n",
       "210         12.0  \n",
       "116         13.0  \n",
       "160         14.0  \n",
       "18          15.0  \n",
       "136         16.0  \n",
       "226         17.0  \n",
       "225         18.0  \n",
       "68          19.0  \n",
       "104         20.0  "
      ]
     },
     "execution_count": 153,
     "metadata": {},
     "output_type": "execute_result"
    }
   ],
   "source": [
    "rank.sort_values(by = 'rank_result').head(20)"
   ]
  },
  {
   "cell_type": "markdown",
   "metadata": {},
   "source": [
    "### problem 4"
   ]
  }
 ],
 "metadata": {
  "kernelspec": {
   "display_name": "Python 3",
   "language": "python",
   "name": "python3"
  },
  "language_info": {
   "codemirror_mode": {
    "name": "ipython",
    "version": 3
   },
   "file_extension": ".py",
   "mimetype": "text/x-python",
   "name": "python",
   "nbconvert_exporter": "python",
   "pygments_lexer": "ipython3",
   "version": "3.6.8"
  },
  "toc": {
   "base_numbering": 1,
   "nav_menu": {},
   "number_sections": true,
   "sideBar": true,
   "skip_h1_title": false,
   "title_cell": "Table of Contents",
   "title_sidebar": "Contents",
   "toc_cell": false,
   "toc_position": {},
   "toc_section_display": true,
   "toc_window_display": false
  }
 },
 "nbformat": 4,
 "nbformat_minor": 2
}
