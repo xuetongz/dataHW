{
 "cells": [
  {
   "cell_type": "code",
   "execution_count": 1,
   "metadata": {},
   "outputs": [],
   "source": [
    "import pandas as pd\n",
    "import numpy as np\n",
    "import matplotlib.pyplot as plt"
   ]
  },
  {
   "cell_type": "code",
   "execution_count": 2,
   "metadata": {},
   "outputs": [
    {
     "data": {
      "text/html": [
       "<div>\n",
       "<style scoped>\n",
       "    .dataframe tbody tr th:only-of-type {\n",
       "        vertical-align: middle;\n",
       "    }\n",
       "\n",
       "    .dataframe tbody tr th {\n",
       "        vertical-align: top;\n",
       "    }\n",
       "\n",
       "    .dataframe thead th {\n",
       "        text-align: right;\n",
       "    }\n",
       "</style>\n",
       "<table border=\"1\" class=\"dataframe\">\n",
       "  <thead>\n",
       "    <tr style=\"text-align: right;\">\n",
       "      <th></th>\n",
       "      <th>Date</th>\n",
       "      <th>Customer Type</th>\n",
       "      <th>Delivery Type</th>\n",
       "      <th>Device Type</th>\n",
       "      <th>Before You Go Unique Daily Users</th>\n",
       "      <th>Before You Go Cart Adds</th>\n",
       "      <th>Before You Go Total Revenue From Cart Adds</th>\n",
       "      <th>Book Slot Unique Daily Users</th>\n",
       "      <th>Select Payment Unique Daily Users</th>\n",
       "      <th>Order Summary Unique Daily Users</th>\n",
       "      <th>Orders</th>\n",
       "      <th>Revenue</th>\n",
       "    </tr>\n",
       "  </thead>\n",
       "  <tbody>\n",
       "    <tr>\n",
       "      <th>0</th>\n",
       "      <td>2017-09-01</td>\n",
       "      <td>Existing</td>\n",
       "      <td>Store Collection</td>\n",
       "      <td>Desktop</td>\n",
       "      <td>4910</td>\n",
       "      <td>1929</td>\n",
       "      <td>3737</td>\n",
       "      <td>4839</td>\n",
       "      <td>4342</td>\n",
       "      <td>4245</td>\n",
       "      <td>4037</td>\n",
       "      <td>379289.0</td>\n",
       "    </tr>\n",
       "    <tr>\n",
       "      <th>1</th>\n",
       "      <td>2017-09-01</td>\n",
       "      <td>New</td>\n",
       "      <td>Home Delivery</td>\n",
       "      <td>Desktop</td>\n",
       "      <td>4450</td>\n",
       "      <td>1753</td>\n",
       "      <td>2470</td>\n",
       "      <td>4166</td>\n",
       "      <td>3608</td>\n",
       "      <td>3504</td>\n",
       "      <td>3450</td>\n",
       "      <td>311501.0</td>\n",
       "    </tr>\n",
       "    <tr>\n",
       "      <th>2</th>\n",
       "      <td>2017-09-01</td>\n",
       "      <td>New</td>\n",
       "      <td>Store Collection</td>\n",
       "      <td>Desktop</td>\n",
       "      <td>487</td>\n",
       "      <td>148</td>\n",
       "      <td>257</td>\n",
       "      <td>478</td>\n",
       "      <td>452</td>\n",
       "      <td>435</td>\n",
       "      <td>399</td>\n",
       "      <td>36074.0</td>\n",
       "    </tr>\n",
       "    <tr>\n",
       "      <th>3</th>\n",
       "      <td>2017-09-01</td>\n",
       "      <td>New</td>\n",
       "      <td>Home Delivery</td>\n",
       "      <td>Mobile</td>\n",
       "      <td>398</td>\n",
       "      <td>103</td>\n",
       "      <td>153</td>\n",
       "      <td>343</td>\n",
       "      <td>272</td>\n",
       "      <td>261</td>\n",
       "      <td>250</td>\n",
       "      <td>17452.0</td>\n",
       "    </tr>\n",
       "    <tr>\n",
       "      <th>4</th>\n",
       "      <td>2017-09-01</td>\n",
       "      <td>Existing</td>\n",
       "      <td>Store Collection</td>\n",
       "      <td>Mobile</td>\n",
       "      <td>5159</td>\n",
       "      <td>1750</td>\n",
       "      <td>3356</td>\n",
       "      <td>4785</td>\n",
       "      <td>4242</td>\n",
       "      <td>4059</td>\n",
       "      <td>3855</td>\n",
       "      <td>360265.0</td>\n",
       "    </tr>\n",
       "    <tr>\n",
       "      <th>5</th>\n",
       "      <td>2017-09-01</td>\n",
       "      <td>Existing</td>\n",
       "      <td>Home Delivery</td>\n",
       "      <td>Mobile</td>\n",
       "      <td>20008</td>\n",
       "      <td>7045</td>\n",
       "      <td>13190</td>\n",
       "      <td>18655</td>\n",
       "      <td>18014</td>\n",
       "      <td>17221</td>\n",
       "      <td>17027</td>\n",
       "      <td>1608022.0</td>\n",
       "    </tr>\n",
       "    <tr>\n",
       "      <th>6</th>\n",
       "      <td>2017-09-01</td>\n",
       "      <td>Existing</td>\n",
       "      <td>Home Delivery</td>\n",
       "      <td>Desktop</td>\n",
       "      <td>20647</td>\n",
       "      <td>7762</td>\n",
       "      <td>15198</td>\n",
       "      <td>19739</td>\n",
       "      <td>19157</td>\n",
       "      <td>18058</td>\n",
       "      <td>17673</td>\n",
       "      <td>1652713.0</td>\n",
       "    </tr>\n",
       "    <tr>\n",
       "      <th>7</th>\n",
       "      <td>2017-09-01</td>\n",
       "      <td>New</td>\n",
       "      <td>Store Collection</td>\n",
       "      <td>Mobile</td>\n",
       "      <td>59</td>\n",
       "      <td>15</td>\n",
       "      <td>20</td>\n",
       "      <td>52</td>\n",
       "      <td>50</td>\n",
       "      <td>46</td>\n",
       "      <td>43</td>\n",
       "      <td>3112.0</td>\n",
       "    </tr>\n",
       "    <tr>\n",
       "      <th>8</th>\n",
       "      <td>2017-09-02</td>\n",
       "      <td>Existing</td>\n",
       "      <td>Store Collection</td>\n",
       "      <td>Mobile</td>\n",
       "      <td>5022</td>\n",
       "      <td>1788</td>\n",
       "      <td>3194</td>\n",
       "      <td>4828</td>\n",
       "      <td>4058</td>\n",
       "      <td>3854</td>\n",
       "      <td>3800</td>\n",
       "      <td>350621.0</td>\n",
       "    </tr>\n",
       "    <tr>\n",
       "      <th>9</th>\n",
       "      <td>2017-09-02</td>\n",
       "      <td>Existing</td>\n",
       "      <td>Home Delivery</td>\n",
       "      <td>Desktop</td>\n",
       "      <td>20362</td>\n",
       "      <td>8168</td>\n",
       "      <td>15373</td>\n",
       "      <td>19382</td>\n",
       "      <td>18631</td>\n",
       "      <td>18446</td>\n",
       "      <td>18023</td>\n",
       "      <td>1711522.0</td>\n",
       "    </tr>\n",
       "  </tbody>\n",
       "</table>\n",
       "</div>"
      ],
      "text/plain": [
       "        Date Customer Type     Delivery Type Device Type  \\\n",
       "0 2017-09-01      Existing  Store Collection    Desktop    \n",
       "1 2017-09-01           New     Home Delivery    Desktop    \n",
       "2 2017-09-01           New  Store Collection    Desktop    \n",
       "3 2017-09-01           New     Home Delivery     Mobile    \n",
       "4 2017-09-01      Existing  Store Collection     Mobile    \n",
       "5 2017-09-01      Existing     Home Delivery     Mobile    \n",
       "6 2017-09-01      Existing     Home Delivery    Desktop    \n",
       "7 2017-09-01           New  Store Collection     Mobile    \n",
       "8 2017-09-02      Existing  Store Collection     Mobile    \n",
       "9 2017-09-02      Existing     Home Delivery    Desktop    \n",
       "\n",
       "   Before You Go Unique Daily Users  Before You Go Cart Adds   \\\n",
       "0                              4910                      1929   \n",
       "1                              4450                      1753   \n",
       "2                               487                       148   \n",
       "3                               398                       103   \n",
       "4                              5159                      1750   \n",
       "5                             20008                      7045   \n",
       "6                             20647                      7762   \n",
       "7                                59                        15   \n",
       "8                              5022                      1788   \n",
       "9                             20362                      8168   \n",
       "\n",
       "   Before You Go Total Revenue From Cart Adds  Book Slot Unique Daily Users  \\\n",
       "0                                        3737                          4839   \n",
       "1                                        2470                          4166   \n",
       "2                                         257                           478   \n",
       "3                                         153                           343   \n",
       "4                                        3356                          4785   \n",
       "5                                       13190                         18655   \n",
       "6                                       15198                         19739   \n",
       "7                                          20                            52   \n",
       "8                                        3194                          4828   \n",
       "9                                       15373                         19382   \n",
       "\n",
       "   Select Payment Unique Daily Users  Order Summary Unique Daily Users  \\\n",
       "0                               4342                              4245   \n",
       "1                               3608                              3504   \n",
       "2                                452                               435   \n",
       "3                                272                               261   \n",
       "4                               4242                              4059   \n",
       "5                              18014                             17221   \n",
       "6                              19157                             18058   \n",
       "7                                 50                                46   \n",
       "8                               4058                              3854   \n",
       "9                              18631                             18446   \n",
       "\n",
       "   Orders    Revenue  \n",
       "0    4037   379289.0  \n",
       "1    3450   311501.0  \n",
       "2     399    36074.0  \n",
       "3     250    17452.0  \n",
       "4    3855   360265.0  \n",
       "5   17027  1608022.0  \n",
       "6   17673  1652713.0  \n",
       "7      43     3112.0  \n",
       "8    3800   350621.0  \n",
       "9   18023  1711522.0  "
      ]
     },
     "execution_count": 2,
     "metadata": {},
     "output_type": "execute_result"
    }
   ],
   "source": [
    "data = pd.read_excel('/Users/xuetong/Downloads/International Data Analyst Take Home Excercise 2.xlsx',sheet_name='Data')\n",
    "data.head(10)"
   ]
  },
  {
   "cell_type": "code",
   "execution_count": 61,
   "metadata": {},
   "outputs": [
    {
     "data": {
      "text/plain": [
       "Index(['Date', 'Customer Type', 'Delivery Type', 'Device Type',\n",
       "       'Before You Go Unique Daily Users', 'Before You Go Cart Adds ',\n",
       "       'Before You Go Total Revenue From Cart Adds',\n",
       "       'Book Slot Unique Daily Users', 'Select Payment Unique Daily Users',\n",
       "       'Order Summary Unique Daily Users', 'Orders', 'Revenue',\n",
       "       'BFYG_to_BS_CR', 'BS_to_payment_CR', 'payment_to_summary_CR',\n",
       "       'summary_to_order_CR', 'recommendation_acceptance_rate',\n",
       "       'recommendation_revenue_per_user', 'revenue_per_order'],\n",
       "      dtype='object')"
      ]
     },
     "execution_count": 61,
     "metadata": {},
     "output_type": "execute_result"
    }
   ],
   "source": [
    "data.columns"
   ]
  },
  {
   "cell_type": "markdown",
   "metadata": {},
   "source": [
    "## Converstion Rate Analysis"
   ]
  },
  {
   "cell_type": "code",
   "execution_count": 3,
   "metadata": {},
   "outputs": [],
   "source": [
    "data['BFYG_to_BS_CR'] = data.apply(lambda r: r['Book Slot Unique Daily Users']/r['Before You Go Unique Daily Users']*100,axis = 1).round(1)\n",
    "data['BS_to_payment_CR'] = data.apply(lambda r: r['Select Payment Unique Daily Users']/r['Book Slot Unique Daily Users']*100, axis = 1).round(1)\n",
    "data['payment_to_summary_CR'] = data.apply(lambda r: r['Order Summary Unique Daily Users']/r['Select Payment Unique Daily Users']*100, axis = 1).round(1)\n",
    "data['summary_to_order_CR'] = data.apply(lambda r: r['Orders']/r['Order Summary Unique Daily Users']*100, axis = 1).round(1)"
   ]
  },
  {
   "cell_type": "code",
   "execution_count": 4,
   "metadata": {},
   "outputs": [
    {
     "data": {
      "text/html": [
       "<div>\n",
       "<style scoped>\n",
       "    .dataframe tbody tr th:only-of-type {\n",
       "        vertical-align: middle;\n",
       "    }\n",
       "\n",
       "    .dataframe tbody tr th {\n",
       "        vertical-align: top;\n",
       "    }\n",
       "\n",
       "    .dataframe thead th {\n",
       "        text-align: right;\n",
       "    }\n",
       "</style>\n",
       "<table border=\"1\" class=\"dataframe\">\n",
       "  <thead>\n",
       "    <tr style=\"text-align: right;\">\n",
       "      <th></th>\n",
       "      <th>Date</th>\n",
       "      <th>Customer Type</th>\n",
       "      <th>Delivery Type</th>\n",
       "      <th>Device Type</th>\n",
       "      <th>Before You Go Unique Daily Users</th>\n",
       "      <th>Before You Go Cart Adds</th>\n",
       "      <th>Before You Go Total Revenue From Cart Adds</th>\n",
       "      <th>Book Slot Unique Daily Users</th>\n",
       "      <th>Select Payment Unique Daily Users</th>\n",
       "      <th>Order Summary Unique Daily Users</th>\n",
       "      <th>Orders</th>\n",
       "      <th>Revenue</th>\n",
       "      <th>BFYG_to_BS_CR</th>\n",
       "      <th>BS_to_payment_CR</th>\n",
       "      <th>payment_to_summary_CR</th>\n",
       "      <th>summary_to_order_CR</th>\n",
       "    </tr>\n",
       "  </thead>\n",
       "  <tbody>\n",
       "    <tr>\n",
       "      <th>0</th>\n",
       "      <td>2017-09-01</td>\n",
       "      <td>Existing</td>\n",
       "      <td>Store Collection</td>\n",
       "      <td>Desktop</td>\n",
       "      <td>4910</td>\n",
       "      <td>1929</td>\n",
       "      <td>3737</td>\n",
       "      <td>4839</td>\n",
       "      <td>4342</td>\n",
       "      <td>4245</td>\n",
       "      <td>4037</td>\n",
       "      <td>379289.0</td>\n",
       "      <td>98.6</td>\n",
       "      <td>89.7</td>\n",
       "      <td>97.8</td>\n",
       "      <td>95.1</td>\n",
       "    </tr>\n",
       "    <tr>\n",
       "      <th>1</th>\n",
       "      <td>2017-09-01</td>\n",
       "      <td>New</td>\n",
       "      <td>Home Delivery</td>\n",
       "      <td>Desktop</td>\n",
       "      <td>4450</td>\n",
       "      <td>1753</td>\n",
       "      <td>2470</td>\n",
       "      <td>4166</td>\n",
       "      <td>3608</td>\n",
       "      <td>3504</td>\n",
       "      <td>3450</td>\n",
       "      <td>311501.0</td>\n",
       "      <td>93.6</td>\n",
       "      <td>86.6</td>\n",
       "      <td>97.1</td>\n",
       "      <td>98.5</td>\n",
       "    </tr>\n",
       "    <tr>\n",
       "      <th>2</th>\n",
       "      <td>2017-09-01</td>\n",
       "      <td>New</td>\n",
       "      <td>Store Collection</td>\n",
       "      <td>Desktop</td>\n",
       "      <td>487</td>\n",
       "      <td>148</td>\n",
       "      <td>257</td>\n",
       "      <td>478</td>\n",
       "      <td>452</td>\n",
       "      <td>435</td>\n",
       "      <td>399</td>\n",
       "      <td>36074.0</td>\n",
       "      <td>98.2</td>\n",
       "      <td>94.6</td>\n",
       "      <td>96.2</td>\n",
       "      <td>91.7</td>\n",
       "    </tr>\n",
       "    <tr>\n",
       "      <th>3</th>\n",
       "      <td>2017-09-01</td>\n",
       "      <td>New</td>\n",
       "      <td>Home Delivery</td>\n",
       "      <td>Mobile</td>\n",
       "      <td>398</td>\n",
       "      <td>103</td>\n",
       "      <td>153</td>\n",
       "      <td>343</td>\n",
       "      <td>272</td>\n",
       "      <td>261</td>\n",
       "      <td>250</td>\n",
       "      <td>17452.0</td>\n",
       "      <td>86.2</td>\n",
       "      <td>79.3</td>\n",
       "      <td>96.0</td>\n",
       "      <td>95.8</td>\n",
       "    </tr>\n",
       "    <tr>\n",
       "      <th>4</th>\n",
       "      <td>2017-09-01</td>\n",
       "      <td>Existing</td>\n",
       "      <td>Store Collection</td>\n",
       "      <td>Mobile</td>\n",
       "      <td>5159</td>\n",
       "      <td>1750</td>\n",
       "      <td>3356</td>\n",
       "      <td>4785</td>\n",
       "      <td>4242</td>\n",
       "      <td>4059</td>\n",
       "      <td>3855</td>\n",
       "      <td>360265.0</td>\n",
       "      <td>92.8</td>\n",
       "      <td>88.7</td>\n",
       "      <td>95.7</td>\n",
       "      <td>95.0</td>\n",
       "    </tr>\n",
       "  </tbody>\n",
       "</table>\n",
       "</div>"
      ],
      "text/plain": [
       "        Date Customer Type     Delivery Type Device Type  \\\n",
       "0 2017-09-01      Existing  Store Collection    Desktop    \n",
       "1 2017-09-01           New     Home Delivery    Desktop    \n",
       "2 2017-09-01           New  Store Collection    Desktop    \n",
       "3 2017-09-01           New     Home Delivery     Mobile    \n",
       "4 2017-09-01      Existing  Store Collection     Mobile    \n",
       "\n",
       "   Before You Go Unique Daily Users  Before You Go Cart Adds   \\\n",
       "0                              4910                      1929   \n",
       "1                              4450                      1753   \n",
       "2                               487                       148   \n",
       "3                               398                       103   \n",
       "4                              5159                      1750   \n",
       "\n",
       "   Before You Go Total Revenue From Cart Adds  Book Slot Unique Daily Users  \\\n",
       "0                                        3737                          4839   \n",
       "1                                        2470                          4166   \n",
       "2                                         257                           478   \n",
       "3                                         153                           343   \n",
       "4                                        3356                          4785   \n",
       "\n",
       "   Select Payment Unique Daily Users  Order Summary Unique Daily Users  \\\n",
       "0                               4342                              4245   \n",
       "1                               3608                              3504   \n",
       "2                                452                               435   \n",
       "3                                272                               261   \n",
       "4                               4242                              4059   \n",
       "\n",
       "   Orders   Revenue  BFYG_to_BS_CR  BS_to_payment_CR  payment_to_summary_CR  \\\n",
       "0    4037  379289.0           98.6              89.7                   97.8   \n",
       "1    3450  311501.0           93.6              86.6                   97.1   \n",
       "2     399   36074.0           98.2              94.6                   96.2   \n",
       "3     250   17452.0           86.2              79.3                   96.0   \n",
       "4    3855  360265.0           92.8              88.7                   95.7   \n",
       "\n",
       "   summary_to_order_CR  \n",
       "0                 95.1  \n",
       "1                 98.5  \n",
       "2                 91.7  \n",
       "3                 95.8  \n",
       "4                 95.0  "
      ]
     },
     "execution_count": 4,
     "metadata": {},
     "output_type": "execute_result"
    }
   ],
   "source": [
    "data.head()"
   ]
  },
  {
   "cell_type": "code",
   "execution_count": 36,
   "metadata": {},
   "outputs": [],
   "source": [
    "BFYG_to_BS_CR_median = data['BFYG_to_BS_CR'].median()\n",
    "BS_to_payment_CR_median = data['BS_to_payment_CR'].median()\n",
    "payment_to_summary_CR_median = data['payment_to_summary_CR'].median()\n",
    "summary_to_order_CR_median = data['summary_to_order_CR'].median()"
   ]
  },
  {
   "cell_type": "code",
   "execution_count": 37,
   "metadata": {},
   "outputs": [],
   "source": [
    "array = [BFYG_to_BS_CR_median,BS_to_payment_CR_median,payment_to_summary_CR_median,summary_to_order_CR_median]"
   ]
  },
  {
   "cell_type": "code",
   "execution_count": 38,
   "metadata": {},
   "outputs": [],
   "source": [
    "pd_array = pd.DataFrame(array, index = ['beforeyougo_to_bookslot','bookslot_to_payment','payment_to_summary','summary_to_order'],\n",
    "                       columns = ['conversion_rate_median'])\n",
    "## conversion rate of before you go to book slot and book slot to select payment is low."
   ]
  },
  {
   "cell_type": "code",
   "execution_count": 40,
   "metadata": {},
   "outputs": [
    {
     "data": {
      "text/html": [
       "<div>\n",
       "<style scoped>\n",
       "    .dataframe tbody tr th:only-of-type {\n",
       "        vertical-align: middle;\n",
       "    }\n",
       "\n",
       "    .dataframe tbody tr th {\n",
       "        vertical-align: top;\n",
       "    }\n",
       "\n",
       "    .dataframe thead th {\n",
       "        text-align: right;\n",
       "    }\n",
       "</style>\n",
       "<table border=\"1\" class=\"dataframe\">\n",
       "  <thead>\n",
       "    <tr style=\"text-align: right;\">\n",
       "      <th></th>\n",
       "      <th>conversion_rate_median</th>\n",
       "    </tr>\n",
       "  </thead>\n",
       "  <tbody>\n",
       "    <tr>\n",
       "      <th>beforeyougo_to_bookslot</th>\n",
       "      <td>90.15</td>\n",
       "    </tr>\n",
       "    <tr>\n",
       "      <th>bookslot_to_payment</th>\n",
       "      <td>92.20</td>\n",
       "    </tr>\n",
       "    <tr>\n",
       "      <th>payment_to_summary</th>\n",
       "      <td>96.30</td>\n",
       "    </tr>\n",
       "    <tr>\n",
       "      <th>summary_to_order</th>\n",
       "      <td>96.60</td>\n",
       "    </tr>\n",
       "  </tbody>\n",
       "</table>\n",
       "</div>"
      ],
      "text/plain": [
       "                         conversion_rate_median\n",
       "beforeyougo_to_bookslot                   90.15\n",
       "bookslot_to_payment                       92.20\n",
       "payment_to_summary                        96.30\n",
       "summary_to_order                          96.60"
      ]
     },
     "execution_count": 40,
     "metadata": {},
     "output_type": "execute_result"
    }
   ],
   "source": [
    "pd_array"
   ]
  },
  {
   "cell_type": "code",
   "execution_count": 10,
   "metadata": {},
   "outputs": [],
   "source": [
    "### \n",
    "CR = ['BFYG_to_BS_CR','BS_to_payment_CR','payment_to_summary_CR','summary_to_order_CR']\n",
    "CR_customer_type = data.groupby(['Customer Type'])['BFYG_to_BS_CR','BS_to_payment_CR','payment_to_summary_CR','summary_to_order_CR'].median()"
   ]
  },
  {
   "cell_type": "code",
   "execution_count": 11,
   "metadata": {},
   "outputs": [
    {
     "data": {
      "text/html": [
       "<div>\n",
       "<style scoped>\n",
       "    .dataframe tbody tr th:only-of-type {\n",
       "        vertical-align: middle;\n",
       "    }\n",
       "\n",
       "    .dataframe tbody tr th {\n",
       "        vertical-align: top;\n",
       "    }\n",
       "\n",
       "    .dataframe thead th {\n",
       "        text-align: right;\n",
       "    }\n",
       "</style>\n",
       "<table border=\"1\" class=\"dataframe\">\n",
       "  <thead>\n",
       "    <tr style=\"text-align: right;\">\n",
       "      <th></th>\n",
       "      <th>BFYG_to_BS_CR</th>\n",
       "      <th>BS_to_payment_CR</th>\n",
       "      <th>payment_to_summary_CR</th>\n",
       "      <th>summary_to_order_CR</th>\n",
       "    </tr>\n",
       "    <tr>\n",
       "      <th>Customer Type</th>\n",
       "      <th></th>\n",
       "      <th></th>\n",
       "      <th></th>\n",
       "      <th></th>\n",
       "    </tr>\n",
       "  </thead>\n",
       "  <tbody>\n",
       "    <tr>\n",
       "      <th>Existing</th>\n",
       "      <td>93.15</td>\n",
       "      <td>93.2</td>\n",
       "      <td>97.3</td>\n",
       "      <td>97.90</td>\n",
       "    </tr>\n",
       "    <tr>\n",
       "      <th>New</th>\n",
       "      <td>87.85</td>\n",
       "      <td>89.9</td>\n",
       "      <td>95.4</td>\n",
       "      <td>94.75</td>\n",
       "    </tr>\n",
       "  </tbody>\n",
       "</table>\n",
       "</div>"
      ],
      "text/plain": [
       "               BFYG_to_BS_CR  BS_to_payment_CR  payment_to_summary_CR  \\\n",
       "Customer Type                                                           \n",
       "Existing               93.15              93.2                   97.3   \n",
       "New                    87.85              89.9                   95.4   \n",
       "\n",
       "               summary_to_order_CR  \n",
       "Customer Type                       \n",
       "Existing                     97.90  \n",
       "New                          94.75  "
      ]
     },
     "execution_count": 11,
     "metadata": {},
     "output_type": "execute_result"
    }
   ],
   "source": [
    "CR_customer_type\n",
    "### new customer converstion rate is lower than existing customer convertion rate"
   ]
  },
  {
   "cell_type": "code",
   "execution_count": 12,
   "metadata": {},
   "outputs": [
    {
     "data": {
      "text/html": [
       "<div>\n",
       "<style scoped>\n",
       "    .dataframe tbody tr th:only-of-type {\n",
       "        vertical-align: middle;\n",
       "    }\n",
       "\n",
       "    .dataframe tbody tr th {\n",
       "        vertical-align: top;\n",
       "    }\n",
       "\n",
       "    .dataframe thead th {\n",
       "        text-align: right;\n",
       "    }\n",
       "</style>\n",
       "<table border=\"1\" class=\"dataframe\">\n",
       "  <thead>\n",
       "    <tr style=\"text-align: right;\">\n",
       "      <th></th>\n",
       "      <th>BFYG_to_BS_CR</th>\n",
       "      <th>BS_to_payment_CR</th>\n",
       "      <th>payment_to_summary_CR</th>\n",
       "      <th>summary_to_order_CR</th>\n",
       "    </tr>\n",
       "    <tr>\n",
       "      <th>Delivery Type</th>\n",
       "      <th></th>\n",
       "      <th></th>\n",
       "      <th></th>\n",
       "      <th></th>\n",
       "    </tr>\n",
       "  </thead>\n",
       "  <tbody>\n",
       "    <tr>\n",
       "      <th>Home Delivery</th>\n",
       "      <td>92.0</td>\n",
       "      <td>89.40</td>\n",
       "      <td>96.2</td>\n",
       "      <td>97.60</td>\n",
       "    </tr>\n",
       "    <tr>\n",
       "      <th>Store Collection</th>\n",
       "      <td>89.2</td>\n",
       "      <td>93.05</td>\n",
       "      <td>96.6</td>\n",
       "      <td>95.15</td>\n",
       "    </tr>\n",
       "  </tbody>\n",
       "</table>\n",
       "</div>"
      ],
      "text/plain": [
       "                  BFYG_to_BS_CR  BS_to_payment_CR  payment_to_summary_CR  \\\n",
       "Delivery Type                                                              \n",
       "Home Delivery              92.0             89.40                   96.2   \n",
       "Store Collection           89.2             93.05                   96.6   \n",
       "\n",
       "                  summary_to_order_CR  \n",
       "Delivery Type                          \n",
       "Home Delivery                   97.60  \n",
       "Store Collection                95.15  "
      ]
     },
     "execution_count": 12,
     "metadata": {},
     "output_type": "execute_result"
    }
   ],
   "source": [
    "CR_Delivery_Type = data.groupby(['Delivery Type'])['BFYG_to_BS_CR','BS_to_payment_CR','payment_to_summary_CR','summary_to_order_CR'].median()\n",
    "CR_Delivery_Type"
   ]
  },
  {
   "cell_type": "code",
   "execution_count": 13,
   "metadata": {},
   "outputs": [
    {
     "data": {
      "text/html": [
       "<div>\n",
       "<style scoped>\n",
       "    .dataframe tbody tr th:only-of-type {\n",
       "        vertical-align: middle;\n",
       "    }\n",
       "\n",
       "    .dataframe tbody tr th {\n",
       "        vertical-align: top;\n",
       "    }\n",
       "\n",
       "    .dataframe thead th {\n",
       "        text-align: right;\n",
       "    }\n",
       "</style>\n",
       "<table border=\"1\" class=\"dataframe\">\n",
       "  <thead>\n",
       "    <tr style=\"text-align: right;\">\n",
       "      <th></th>\n",
       "      <th>BFYG_to_BS_CR</th>\n",
       "      <th>BS_to_payment_CR</th>\n",
       "      <th>payment_to_summary_CR</th>\n",
       "      <th>summary_to_order_CR</th>\n",
       "    </tr>\n",
       "    <tr>\n",
       "      <th>Device Type</th>\n",
       "      <th></th>\n",
       "      <th></th>\n",
       "      <th></th>\n",
       "      <th></th>\n",
       "    </tr>\n",
       "  </thead>\n",
       "  <tbody>\n",
       "    <tr>\n",
       "      <th>Desktop</th>\n",
       "      <td>93.70</td>\n",
       "      <td>92.6</td>\n",
       "      <td>97.15</td>\n",
       "      <td>97.25</td>\n",
       "    </tr>\n",
       "    <tr>\n",
       "      <th>Mobile</th>\n",
       "      <td>87.65</td>\n",
       "      <td>91.8</td>\n",
       "      <td>95.65</td>\n",
       "      <td>95.60</td>\n",
       "    </tr>\n",
       "  </tbody>\n",
       "</table>\n",
       "</div>"
      ],
      "text/plain": [
       "             BFYG_to_BS_CR  BS_to_payment_CR  payment_to_summary_CR  \\\n",
       "Device Type                                                           \n",
       "Desktop              93.70              92.6                  97.15   \n",
       "Mobile               87.65              91.8                  95.65   \n",
       "\n",
       "             summary_to_order_CR  \n",
       "Device Type                       \n",
       "Desktop                    97.25  \n",
       "Mobile                     95.60  "
      ]
     },
     "execution_count": 13,
     "metadata": {},
     "output_type": "execute_result"
    }
   ],
   "source": [
    "CR_device_type = data.groupby(['Device Type'])['BFYG_to_BS_CR','BS_to_payment_CR','payment_to_summary_CR','summary_to_order_CR'].median()\n",
    "CR_device_type\n",
    "### mobile convertion rate is lower than Desktop convertion rate"
   ]
  },
  {
   "cell_type": "code",
   "execution_count": 14,
   "metadata": {},
   "outputs": [
    {
     "data": {
      "text/html": [
       "<div>\n",
       "<style scoped>\n",
       "    .dataframe tbody tr th:only-of-type {\n",
       "        vertical-align: middle;\n",
       "    }\n",
       "\n",
       "    .dataframe tbody tr th {\n",
       "        vertical-align: top;\n",
       "    }\n",
       "\n",
       "    .dataframe thead th {\n",
       "        text-align: right;\n",
       "    }\n",
       "</style>\n",
       "<table border=\"1\" class=\"dataframe\">\n",
       "  <thead>\n",
       "    <tr style=\"text-align: right;\">\n",
       "      <th></th>\n",
       "      <th></th>\n",
       "      <th></th>\n",
       "      <th>BFYG_to_BS_CR</th>\n",
       "      <th>BS_to_payment_CR</th>\n",
       "      <th>payment_to_summary_CR</th>\n",
       "      <th>summary_to_order_CR</th>\n",
       "    </tr>\n",
       "    <tr>\n",
       "      <th>Customer Type</th>\n",
       "      <th>Delivery Type</th>\n",
       "      <th>Device Type</th>\n",
       "      <th></th>\n",
       "      <th></th>\n",
       "      <th></th>\n",
       "      <th></th>\n",
       "    </tr>\n",
       "  </thead>\n",
       "  <tbody>\n",
       "    <tr>\n",
       "      <th rowspan=\"4\" valign=\"top\">Existing</th>\n",
       "      <th rowspan=\"2\" valign=\"top\">Home Delivery</th>\n",
       "      <th>Desktop</th>\n",
       "      <td>95.05</td>\n",
       "      <td>96.20</td>\n",
       "      <td>95.90</td>\n",
       "      <td>98.20</td>\n",
       "    </tr>\n",
       "    <tr>\n",
       "      <th>Mobile</th>\n",
       "      <td>94.75</td>\n",
       "      <td>92.30</td>\n",
       "      <td>98.05</td>\n",
       "      <td>98.75</td>\n",
       "    </tr>\n",
       "    <tr>\n",
       "      <th rowspan=\"2\" valign=\"top\">Store Collection</th>\n",
       "      <th>Desktop</th>\n",
       "      <td>92.75</td>\n",
       "      <td>93.60</td>\n",
       "      <td>97.25</td>\n",
       "      <td>97.75</td>\n",
       "    </tr>\n",
       "    <tr>\n",
       "      <th>Mobile</th>\n",
       "      <td>91.45</td>\n",
       "      <td>91.55</td>\n",
       "      <td>97.25</td>\n",
       "      <td>96.70</td>\n",
       "    </tr>\n",
       "    <tr>\n",
       "      <th rowspan=\"4\" valign=\"top\">New</th>\n",
       "      <th rowspan=\"2\" valign=\"top\">Home Delivery</th>\n",
       "      <th>Desktop</th>\n",
       "      <td>93.65</td>\n",
       "      <td>86.95</td>\n",
       "      <td>97.15</td>\n",
       "      <td>97.05</td>\n",
       "    </tr>\n",
       "    <tr>\n",
       "      <th>Mobile</th>\n",
       "      <td>85.80</td>\n",
       "      <td>79.80</td>\n",
       "      <td>92.95</td>\n",
       "      <td>95.60</td>\n",
       "    </tr>\n",
       "    <tr>\n",
       "      <th rowspan=\"2\" valign=\"top\">Store Collection</th>\n",
       "      <th>Desktop</th>\n",
       "      <td>93.95</td>\n",
       "      <td>92.00</td>\n",
       "      <td>97.45</td>\n",
       "      <td>94.80</td>\n",
       "    </tr>\n",
       "    <tr>\n",
       "      <th>Mobile</th>\n",
       "      <td>85.35</td>\n",
       "      <td>95.60</td>\n",
       "      <td>93.85</td>\n",
       "      <td>91.50</td>\n",
       "    </tr>\n",
       "  </tbody>\n",
       "</table>\n",
       "</div>"
      ],
      "text/plain": [
       "                                            BFYG_to_BS_CR  BS_to_payment_CR  \\\n",
       "Customer Type Delivery Type    Device Type                                    \n",
       "Existing      Home Delivery    Desktop              95.05             96.20   \n",
       "                               Mobile               94.75             92.30   \n",
       "              Store Collection Desktop              92.75             93.60   \n",
       "                               Mobile               91.45             91.55   \n",
       "New           Home Delivery    Desktop              93.65             86.95   \n",
       "                               Mobile               85.80             79.80   \n",
       "              Store Collection Desktop              93.95             92.00   \n",
       "                               Mobile               85.35             95.60   \n",
       "\n",
       "                                            payment_to_summary_CR  \\\n",
       "Customer Type Delivery Type    Device Type                          \n",
       "Existing      Home Delivery    Desktop                      95.90   \n",
       "                               Mobile                       98.05   \n",
       "              Store Collection Desktop                      97.25   \n",
       "                               Mobile                       97.25   \n",
       "New           Home Delivery    Desktop                      97.15   \n",
       "                               Mobile                       92.95   \n",
       "              Store Collection Desktop                      97.45   \n",
       "                               Mobile                       93.85   \n",
       "\n",
       "                                            summary_to_order_CR  \n",
       "Customer Type Delivery Type    Device Type                       \n",
       "Existing      Home Delivery    Desktop                    98.20  \n",
       "                               Mobile                     98.75  \n",
       "              Store Collection Desktop                    97.75  \n",
       "                               Mobile                     96.70  \n",
       "New           Home Delivery    Desktop                    97.05  \n",
       "                               Mobile                     95.60  \n",
       "              Store Collection Desktop                    94.80  \n",
       "                               Mobile                     91.50  "
      ]
     },
     "execution_count": 14,
     "metadata": {},
     "output_type": "execute_result"
    }
   ],
   "source": [
    "CR_all_group = data.groupby(['Customer Type', 'Delivery Type', 'Device Type'])['BFYG_to_BS_CR','BS_to_payment_CR','payment_to_summary_CR','summary_to_order_CR'].median()\n",
    "CR_all_group \n",
    "###  new + home delivery + mobile  convertion rate of "
   ]
  },
  {
   "cell_type": "markdown",
   "metadata": {},
   "source": [
    "## recommendation analysis "
   ]
  },
  {
   "cell_type": "code",
   "execution_count": 63,
   "metadata": {},
   "outputs": [],
   "source": [
    "### recommendation efficiency\n",
    "data['recommendation_acceptance_rate'] = data.apply(lambda r: r['Before You Go Cart Adds ']/r['Before You Go Unique Daily Users']*100,axis = 1)\n",
    "data['recommendation_revenue_per_user'] = data.apply(lambda r: r['Before You Go Total Revenue From Cart Adds']/r['Before You Go Cart Adds '],axis =1)"
   ]
  },
  {
   "cell_type": "code",
   "execution_count": 64,
   "metadata": {},
   "outputs": [],
   "source": [
    "recommendation_acceptance_rate_median = data['recommendation_acceptance_rate'].median()\n",
    "recommendation_revenue_per_user_median = data['recommendation_revenue_per_user'].median()"
   ]
  },
  {
   "cell_type": "code",
   "execution_count": 65,
   "metadata": {},
   "outputs": [
    {
     "data": {
      "text/plain": [
       "36.594055391002044"
      ]
     },
     "execution_count": 65,
     "metadata": {},
     "output_type": "execute_result"
    }
   ],
   "source": [
    "recommendation_acceptance_rate_median\n",
    "### recommendation efficiency could be improved"
   ]
  },
  {
   "cell_type": "code",
   "execution_count": 66,
   "metadata": {},
   "outputs": [
    {
     "data": {
      "text/plain": [
       "1.7743893906110162"
      ]
     },
     "execution_count": 66,
     "metadata": {},
     "output_type": "execute_result"
    }
   ],
   "source": [
    "recommendation_revenue_per_user_median"
   ]
  },
  {
   "cell_type": "markdown",
   "metadata": {},
   "source": [
    "## Revenue Analysis "
   ]
  },
  {
   "cell_type": "code",
   "execution_count": 43,
   "metadata": {},
   "outputs": [],
   "source": [
    "data['revenue_per_order'] = data.apply(lambda r:r['Revenue']/r['Orders'], axis = 1)"
   ]
  },
  {
   "cell_type": "code",
   "execution_count": 45,
   "metadata": {},
   "outputs": [
    {
     "data": {
      "text/plain": [
       "Customer Type\n",
       "Existing    93.319287\n",
       "New         80.546326\n",
       "Name: revenue_per_order, dtype: float64"
      ]
     },
     "execution_count": 45,
     "metadata": {},
     "output_type": "execute_result"
    }
   ],
   "source": [
    "revnue_per_order_customer_type = data.groupby(['Customer Type'])['revenue_per_order'].median()\n",
    "revnue_per_order_customer_type"
   ]
  },
  {
   "cell_type": "code",
   "execution_count": 46,
   "metadata": {},
   "outputs": [
    {
     "data": {
      "text/plain": [
       "Delivery Type\n",
       "Home Delivery       91.682106\n",
       "Store Collection    87.935114\n",
       "Name: revenue_per_order, dtype: float64"
      ]
     },
     "execution_count": 46,
     "metadata": {},
     "output_type": "execute_result"
    }
   ],
   "source": [
    "revenue_delievery_type  = data.groupby(['Delivery Type'])['revenue_per_order'].median()\n",
    "revenue_delievery_type"
   ]
  },
  {
   "cell_type": "code",
   "execution_count": 47,
   "metadata": {},
   "outputs": [
    {
     "data": {
      "text/plain": [
       "Device Type\n",
       "Desktop     90.876481\n",
       "Mobile      81.537730\n",
       "Name: revenue_per_order, dtype: float64"
      ]
     },
     "execution_count": 47,
     "metadata": {},
     "output_type": "execute_result"
    }
   ],
   "source": [
    "revenue_device_type = data.groupby(['Device Type'])['revenue_per_order'].median()\n",
    "revenue_device_type"
   ]
  },
  {
   "cell_type": "code",
   "execution_count": 48,
   "metadata": {},
   "outputs": [
    {
     "data": {
      "text/plain": [
       "Customer Type  Delivery Type     Device Type\n",
       "Existing       Home Delivery     Desktop        97.473773\n",
       "                                 Mobile         94.408730\n",
       "               Store Collection  Desktop        90.861119\n",
       "                                 Mobile         89.840027\n",
       "New            Home Delivery     Desktop        89.559456\n",
       "                                 Mobile         74.219123\n",
       "               Store Collection  Desktop        87.829068\n",
       "                                 Mobile         71.651163\n",
       "Name: revenue_per_order, dtype: float64"
      ]
     },
     "execution_count": 48,
     "metadata": {},
     "output_type": "execute_result"
    }
   ],
   "source": [
    "revenue = data.groupby(['Customer Type', 'Delivery Type', 'Device Type'])['revenue_per_order'].median()\n",
    "revenue"
   ]
  },
  {
   "cell_type": "markdown",
   "metadata": {},
   "source": [
    "## Additional Analysis"
   ]
  },
  {
   "cell_type": "code",
   "execution_count": 56,
   "metadata": {},
   "outputs": [
    {
     "data": {
      "text/plain": [
       "Customer Type\n",
       "Existing    1237470\n",
       "New          120010\n",
       "Name: Orders, dtype: int64"
      ]
     },
     "execution_count": 56,
     "metadata": {},
     "output_type": "execute_result"
    }
   ],
   "source": [
    "order_by_customer_type = data.groupby(['Customer Type'])['Orders'].sum()\n",
    "order_by_customer_type"
   ]
  },
  {
   "cell_type": "code",
   "execution_count": 57,
   "metadata": {},
   "outputs": [
    {
     "data": {
      "text/plain": [
       "Delivery Type\n",
       "Home Delivery       1110641\n",
       "Store Collection     246839\n",
       "Name: Orders, dtype: int64"
      ]
     },
     "execution_count": 57,
     "metadata": {},
     "output_type": "execute_result"
    }
   ],
   "source": [
    "Orders_by_delievery_type  = data.groupby(['Delivery Type'])['Orders'].sum()\n",
    "Orders_by_delievery_type"
   ]
  },
  {
   "cell_type": "code",
   "execution_count": 58,
   "metadata": {},
   "outputs": [
    {
     "data": {
      "text/plain": [
       "Device Type\n",
       "Desktop     742486\n",
       "Mobile      614994\n",
       "Name: Orders, dtype: int64"
      ]
     },
     "execution_count": 58,
     "metadata": {},
     "output_type": "execute_result"
    }
   ],
   "source": [
    "Orders_by_device_type = data.groupby(['Device Type'])['Orders'].sum()\n",
    "Orders_by_device_type"
   ]
  },
  {
   "cell_type": "code",
   "execution_count": 59,
   "metadata": {},
   "outputs": [
    {
     "data": {
      "text/plain": [
       "Customer Type  Delivery Type     Device Type\n",
       "Existing       Home Delivery     Desktop        510839\n",
       "                                 Mobile         492717\n",
       "               Store Collection  Desktop        119990\n",
       "                                 Mobile         113924\n",
       "New            Home Delivery     Desktop         99935\n",
       "                                 Mobile           7150\n",
       "               Store Collection  Desktop         11722\n",
       "                                 Mobile           1203\n",
       "Name: Orders, dtype: int64"
      ]
     },
     "execution_count": 59,
     "metadata": {},
     "output_type": "execute_result"
    }
   ],
   "source": [
    "orders = data.groupby(['Customer Type', 'Delivery Type', 'Device Type'])['Orders'].sum()\n",
    "orders"
   ]
  },
  {
   "cell_type": "markdown",
   "metadata": {},
   "source": [
    "## Summary"
   ]
  },
  {
   "cell_type": "markdown",
   "metadata": {},
   "source": [
    "1. The conversion rate of first two step is low."
   ]
  },
  {
   "cell_type": "code",
   "execution_count": 33,
   "metadata": {},
   "outputs": [
    {
     "data": {
      "text/html": [
       "<div>\n",
       "<style scoped>\n",
       "    .dataframe tbody tr th:only-of-type {\n",
       "        vertical-align: middle;\n",
       "    }\n",
       "\n",
       "    .dataframe tbody tr th {\n",
       "        vertical-align: top;\n",
       "    }\n",
       "\n",
       "    .dataframe thead th {\n",
       "        text-align: right;\n",
       "    }\n",
       "</style>\n",
       "<table border=\"1\" class=\"dataframe\">\n",
       "  <thead>\n",
       "    <tr style=\"text-align: right;\">\n",
       "      <th></th>\n",
       "      <th>conversion_rate_median</th>\n",
       "    </tr>\n",
       "  </thead>\n",
       "  <tbody>\n",
       "    <tr>\n",
       "      <th>beforeyougo_to_bookslot</th>\n",
       "      <td>90.15</td>\n",
       "    </tr>\n",
       "    <tr>\n",
       "      <th>bookslot_to_payment</th>\n",
       "      <td>92.20</td>\n",
       "    </tr>\n",
       "    <tr>\n",
       "      <th>payment_to_summary</th>\n",
       "      <td>96.30</td>\n",
       "    </tr>\n",
       "    <tr>\n",
       "      <th>summary_to_order</th>\n",
       "      <td>96.60</td>\n",
       "    </tr>\n",
       "  </tbody>\n",
       "</table>\n",
       "</div>"
      ],
      "text/plain": [
       "                         conversion_rate_median\n",
       "beforeyougo_to_bookslot                   90.15\n",
       "bookslot_to_payment                       92.20\n",
       "payment_to_summary                        96.30\n",
       "summary_to_order                          96.60"
      ]
     },
     "execution_count": 33,
     "metadata": {},
     "output_type": "execute_result"
    }
   ],
   "source": [
    "pd_array"
   ]
  },
  {
   "cell_type": "markdown",
   "metadata": {},
   "source": [
    "2. The conversion rate of mobile user is lower than that of desktop user in most segmentation, so we should take a look at out mobile app, and find how to improve it. "
   ]
  },
  {
   "cell_type": "code",
   "execution_count": 41,
   "metadata": {},
   "outputs": [
    {
     "data": {
      "text/html": [
       "<div>\n",
       "<style scoped>\n",
       "    .dataframe tbody tr th:only-of-type {\n",
       "        vertical-align: middle;\n",
       "    }\n",
       "\n",
       "    .dataframe tbody tr th {\n",
       "        vertical-align: top;\n",
       "    }\n",
       "\n",
       "    .dataframe thead th {\n",
       "        text-align: right;\n",
       "    }\n",
       "</style>\n",
       "<table border=\"1\" class=\"dataframe\">\n",
       "  <thead>\n",
       "    <tr style=\"text-align: right;\">\n",
       "      <th></th>\n",
       "      <th></th>\n",
       "      <th></th>\n",
       "      <th>BFYG_to_BS_CR</th>\n",
       "      <th>BS_to_payment_CR</th>\n",
       "      <th>payment_to_summary_CR</th>\n",
       "      <th>summary_to_order_CR</th>\n",
       "    </tr>\n",
       "    <tr>\n",
       "      <th>Customer Type</th>\n",
       "      <th>Delivery Type</th>\n",
       "      <th>Device Type</th>\n",
       "      <th></th>\n",
       "      <th></th>\n",
       "      <th></th>\n",
       "      <th></th>\n",
       "    </tr>\n",
       "  </thead>\n",
       "  <tbody>\n",
       "    <tr>\n",
       "      <th rowspan=\"4\" valign=\"top\">Existing</th>\n",
       "      <th rowspan=\"2\" valign=\"top\">Home Delivery</th>\n",
       "      <th>Desktop</th>\n",
       "      <td>95.05</td>\n",
       "      <td>96.20</td>\n",
       "      <td>95.90</td>\n",
       "      <td>98.20</td>\n",
       "    </tr>\n",
       "    <tr>\n",
       "      <th>Mobile</th>\n",
       "      <td>94.75</td>\n",
       "      <td>92.30</td>\n",
       "      <td>98.05</td>\n",
       "      <td>98.75</td>\n",
       "    </tr>\n",
       "    <tr>\n",
       "      <th rowspan=\"2\" valign=\"top\">Store Collection</th>\n",
       "      <th>Desktop</th>\n",
       "      <td>92.75</td>\n",
       "      <td>93.60</td>\n",
       "      <td>97.25</td>\n",
       "      <td>97.75</td>\n",
       "    </tr>\n",
       "    <tr>\n",
       "      <th>Mobile</th>\n",
       "      <td>91.45</td>\n",
       "      <td>91.55</td>\n",
       "      <td>97.25</td>\n",
       "      <td>96.70</td>\n",
       "    </tr>\n",
       "    <tr>\n",
       "      <th rowspan=\"4\" valign=\"top\">New</th>\n",
       "      <th rowspan=\"2\" valign=\"top\">Home Delivery</th>\n",
       "      <th>Desktop</th>\n",
       "      <td>93.65</td>\n",
       "      <td>86.95</td>\n",
       "      <td>97.15</td>\n",
       "      <td>97.05</td>\n",
       "    </tr>\n",
       "    <tr>\n",
       "      <th>Mobile</th>\n",
       "      <td>85.80</td>\n",
       "      <td>79.80</td>\n",
       "      <td>92.95</td>\n",
       "      <td>95.60</td>\n",
       "    </tr>\n",
       "    <tr>\n",
       "      <th rowspan=\"2\" valign=\"top\">Store Collection</th>\n",
       "      <th>Desktop</th>\n",
       "      <td>93.95</td>\n",
       "      <td>92.00</td>\n",
       "      <td>97.45</td>\n",
       "      <td>94.80</td>\n",
       "    </tr>\n",
       "    <tr>\n",
       "      <th>Mobile</th>\n",
       "      <td>85.35</td>\n",
       "      <td>95.60</td>\n",
       "      <td>93.85</td>\n",
       "      <td>91.50</td>\n",
       "    </tr>\n",
       "  </tbody>\n",
       "</table>\n",
       "</div>"
      ],
      "text/plain": [
       "                                            BFYG_to_BS_CR  BS_to_payment_CR  \\\n",
       "Customer Type Delivery Type    Device Type                                    \n",
       "Existing      Home Delivery    Desktop              95.05             96.20   \n",
       "                               Mobile               94.75             92.30   \n",
       "              Store Collection Desktop              92.75             93.60   \n",
       "                               Mobile               91.45             91.55   \n",
       "New           Home Delivery    Desktop              93.65             86.95   \n",
       "                               Mobile               85.80             79.80   \n",
       "              Store Collection Desktop              93.95             92.00   \n",
       "                               Mobile               85.35             95.60   \n",
       "\n",
       "                                            payment_to_summary_CR  \\\n",
       "Customer Type Delivery Type    Device Type                          \n",
       "Existing      Home Delivery    Desktop                      95.90   \n",
       "                               Mobile                       98.05   \n",
       "              Store Collection Desktop                      97.25   \n",
       "                               Mobile                       97.25   \n",
       "New           Home Delivery    Desktop                      97.15   \n",
       "                               Mobile                       92.95   \n",
       "              Store Collection Desktop                      97.45   \n",
       "                               Mobile                       93.85   \n",
       "\n",
       "                                            summary_to_order_CR  \n",
       "Customer Type Delivery Type    Device Type                       \n",
       "Existing      Home Delivery    Desktop                    98.20  \n",
       "                               Mobile                     98.75  \n",
       "              Store Collection Desktop                    97.75  \n",
       "                               Mobile                     96.70  \n",
       "New           Home Delivery    Desktop                    97.05  \n",
       "                               Mobile                     95.60  \n",
       "              Store Collection Desktop                    94.80  \n",
       "                               Mobile                     91.50  "
      ]
     },
     "execution_count": 41,
     "metadata": {},
     "output_type": "execute_result"
    }
   ],
   "source": [
    "CR_all_group "
   ]
  },
  {
   "cell_type": "markdown",
   "metadata": {},
   "source": [
    "3. the performance of  recommendation engine could be improved, since the acceptance rate is only 36.5%, and the revenue per  added items is only 1.7"
   ]
  },
  {
   "cell_type": "markdown",
   "metadata": {},
   "source": [
    "4. For the metric renevue per order(RPO), new customer has significantly low renevue. The RPO for new customer is 80 and the RPO for existing customer is 93. The performance of mobile user is also bad, the RPO for mobile user is 81 and the RPO for desktop user is 90. The RPO for store collection, which is 87, is also slightly lower than the RPO for home delivery, which is 91."
   ]
  },
  {
   "cell_type": "markdown",
   "metadata": {},
   "source": [
    "5. We have much less new user than existing user. the sum of orders come from new users is 120010 where the sum of orders come from existing user is 1237470 which is almost 10 time of orders of new users."
   ]
  },
  {
   "cell_type": "markdown",
   "metadata": {},
   "source": [
    "The metric I am using is convertion rate for each steps of checking out process. To measure the efficiency of recommendation engine I use recommendation acceptance rate for and revenue per customer and revenue per added item. \n",
    "I also used revenue per order, and looked of number of orders for each customer segmentation.\n",
    "\n",
    "From the outcome from the analysis, I biggest problem is we don't have enough new users, so we should work harder in customer aquisition. Also there is several metrics indicated that mobile user has bad performance, so we should also look at our mobile app,and try to improve it. Lastly the performance of recommendation engine could be optimized. "
   ]
  }
 ],
 "metadata": {
  "kernelspec": {
   "display_name": "Python 3.6.8 64-bit ('base': conda)",
   "language": "python",
   "name": "python36864bitbasecondaefd278eb7f054b48b988c58e517b68dd"
  },
  "language_info": {
   "codemirror_mode": {
    "name": "ipython",
    "version": 3
   },
   "file_extension": ".py",
   "mimetype": "text/x-python",
   "name": "python",
   "nbconvert_exporter": "python",
   "pygments_lexer": "ipython3",
   "version": "3.6.8"
  },
  "toc": {
   "base_numbering": 1,
   "nav_menu": {},
   "number_sections": true,
   "sideBar": true,
   "skip_h1_title": false,
   "title_cell": "Table of Contents",
   "title_sidebar": "Contents",
   "toc_cell": false,
   "toc_position": {},
   "toc_section_display": true,
   "toc_window_display": false
  }
 },
 "nbformat": 4,
 "nbformat_minor": 2
}
